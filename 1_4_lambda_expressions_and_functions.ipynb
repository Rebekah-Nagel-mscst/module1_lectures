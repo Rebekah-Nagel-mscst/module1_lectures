{
  "nbformat": 4,
  "nbformat_minor": 0,
  "metadata": {
    "anaconda-cloud": {},
    "kernelspec": {
      "display_name": "Python 3",
      "language": "python",
      "name": "python3"
    },
    "language_info": {
      "codemirror_mode": {
        "name": "ipython",
        "version": 3
      },
      "file_extension": ".py",
      "mimetype": "text/x-python",
      "name": "python",
      "nbconvert_exporter": "python",
      "pygments_lexer": "ipython3",
      "version": "3.7.2"
    },
    "nbpresent": {
      "slides": {
        "d8cfa8b7-18e5-4d2f-8e92-8164c8bfad3b": {
          "id": "d8cfa8b7-18e5-4d2f-8e92-8164c8bfad3b",
          "prev": null,
          "regions": {
            "81231d63-4899-45f2-b382-fabf4f762896": {
              "attrs": {
                "height": 0.8,
                "width": 0.45,
                "x": 0.5,
                "y": 0.1
              },
              "id": "81231d63-4899-45f2-b382-fabf4f762896"
            },
            "b40d103d-8d7f-44de-8fca-19b2f9861cdd": {
              "attrs": {
                "height": 0.8,
                "width": 0.45,
                "x": 0.05,
                "y": 0.1
              },
              "id": "b40d103d-8d7f-44de-8fca-19b2f9861cdd"
            }
          }
        }
      },
      "themes": {}
    },
    "colab": {
      "name": "1_4_lambda_expressions_and_functions.ipynb",
      "provenance": [],
      "include_colab_link": true
    }
  },
  "cells": [
    {
      "cell_type": "markdown",
      "metadata": {
        "id": "view-in-github",
        "colab_type": "text"
      },
      "source": [
        "<a href=\"https://colab.research.google.com/github/Rebekah-Nagel-mscst/module1_lectures/blob/master/1_4_lambda_expressions_and_functions.ipynb\" target=\"_parent\"><img src=\"https://colab.research.google.com/assets/colab-badge.svg\" alt=\"Open In Colab\"/></a>"
      ]
    },
    {
      "cell_type": "markdown",
      "metadata": {
        "nbpresent": {
          "id": "72b0ede6-af2b-41e9-81af-16c345e658d3"
        },
        "id": "hGQXoSmQZ7YI",
        "colab_type": "text"
      },
      "source": [
        "# Lambda Expressions and Functions\n",
        "\n",
        "## Objectives\n",
        "\n",
        "1. Use variables to make expressions more readable\n",
        "2. Introduce the `lambda` expression for reusing expressions\n",
        "3. Writing more complicated functions with the `def` statement"
      ]
    },
    {
      "cell_type": "markdown",
      "metadata": {
        "nbpresent": {
          "id": "1a11188f-9efb-4909-b63f-fa5d6ed1628a"
        },
        "id": "JgaxvaLLZ7YK",
        "colab_type": "text"
      },
      "source": [
        "## The `lambda` expression\n",
        "\n",
        "* Allows reuse of expressions\n",
        "* Variables become **Parameters**\n",
        "    * insert values later"
      ]
    },
    {
      "cell_type": "markdown",
      "metadata": {
        "nbpresent": {
          "id": "a59a0a0b-3a93-41e6-b1bd-b9c856d68106"
        },
        "id": "fLrMz12_Z7YL",
        "colab_type": "text"
      },
      "source": [
        "## The `lambda` syntax\n",
        "\n",
        "<img src=\"https://github.com/Rebekah-Nagel-mscst/module1_lectures/blob/master/img/lambda_syntax.png?raw=1\"/>"
      ]
    },
    {
      "cell_type": "code",
      "metadata": {
        "nbpresent": {
          "id": "12154f73-b113-47f0-a659-899c3c2e9cda"
        },
        "id": "iwg_ZhfCZ7YM",
        "colab_type": "code",
        "colab": {}
      },
      "source": [
        "f = lambda x: x**2"
      ],
      "execution_count": 1,
      "outputs": []
    },
    {
      "cell_type": "code",
      "metadata": {
        "nbpresent": {
          "id": "12154f73-b113-47f0-a659-899c3c2e9cda"
        },
        "id": "BWpvmr7AZ7YR",
        "colab_type": "code",
        "colab": {
          "base_uri": "https://localhost:8080/",
          "height": 34
        },
        "outputId": "cf653c50-c9ae-4db0-d9ad-94ae3577727c"
      },
      "source": [
        "f = lambda x: x**2\n",
        "f(2)"
      ],
      "execution_count": 3,
      "outputs": [
        {
          "output_type": "execute_result",
          "data": {
            "text/plain": [
              "4"
            ]
          },
          "metadata": {
            "tags": []
          },
          "execution_count": 3
        }
      ]
    },
    {
      "cell_type": "markdown",
      "metadata": {
        "id": "XHwTjykYZ7YW",
        "colab_type": "text"
      },
      "source": [
        "## Evaluating `lambda` expressions\n",
        "\n",
        "<img src=\"https://github.com/Rebekah-Nagel-mscst/module1_lectures/blob/master/img/lambda_evaluation.png?raw=1\" width=400/>"
      ]
    },
    {
      "cell_type": "code",
      "metadata": {
        "id": "L5AnkasGauPo",
        "colab_type": "code",
        "colab": {
          "base_uri": "https://localhost:8080/",
          "height": 34
        },
        "outputId": "bce7c90e-b9a8-4b0b-8efb-dfb9dcefe892"
      },
      "source": [
        "f = lambda x: x**2\n",
        "(2**2)"
      ],
      "execution_count": 4,
      "outputs": [
        {
          "output_type": "execute_result",
          "data": {
            "text/plain": [
              "4"
            ]
          },
          "metadata": {
            "tags": []
          },
          "execution_count": 4
        }
      ]
    },
    {
      "cell_type": "markdown",
      "metadata": {
        "nbpresent": {
          "id": "a59a0a0b-3a93-41e6-b1bd-b9c856d68106"
        },
        "id": "Wm6voKbMZ7YW",
        "colab_type": "text"
      },
      "source": [
        "## The `lambda` expression\n",
        "\n",
        "* The *type* of a `lambda` is the type `function`\n",
        "* The *value* of a `lambda` expression is actual function\n",
        "* Remember\n",
        "    * `lambda` MAKES the function\n",
        "    * Use function call to execute the function"
      ]
    },
    {
      "cell_type": "code",
      "metadata": {
        "id": "0V0jiHnzZ7YX",
        "colab_type": "code",
        "colab": {},
        "outputId": "eeacd6d4-20de-432f-c769-626789c78732"
      },
      "source": [
        "f"
      ],
      "execution_count": null,
      "outputs": [
        {
          "output_type": "execute_result",
          "data": {
            "text/plain": [
              "<function __main__.<lambda>>"
            ]
          },
          "metadata": {
            "tags": []
          },
          "execution_count": 5
        }
      ]
    },
    {
      "cell_type": "code",
      "metadata": {
        "nbpresent": {
          "id": "12154f73-b113-47f0-a659-899c3c2e9cda"
        },
        "id": "koXito7zZ7Yb",
        "colab_type": "code",
        "colab": {},
        "outputId": "ff5a271b-9587-4dce-ddee-e79c8bf9802e"
      },
      "source": [
        "type(f)"
      ],
      "execution_count": null,
      "outputs": [
        {
          "output_type": "execute_result",
          "data": {
            "text/plain": [
              "function"
            ]
          },
          "metadata": {
            "tags": []
          },
          "execution_count": 2
        }
      ]
    },
    {
      "cell_type": "markdown",
      "metadata": {
        "id": "D_EFXJy4Z7Yg",
        "colab_type": "text"
      },
      "source": [
        "## Calling a lambda expression in the usual way"
      ]
    },
    {
      "cell_type": "code",
      "metadata": {
        "nbpresent": {
          "id": "eb41b143-7ceb-475d-83e3-941bd5866cb4"
        },
        "id": "mPweG3OFZ7Yg",
        "colab_type": "code",
        "colab": {
          "base_uri": "https://localhost:8080/",
          "height": 34
        },
        "outputId": "23a01c3d-ada8-4715-b63b-f9f76a1fe6be"
      },
      "source": [
        "f(3)"
      ],
      "execution_count": 5,
      "outputs": [
        {
          "output_type": "execute_result",
          "data": {
            "text/plain": [
              "9"
            ]
          },
          "metadata": {
            "tags": []
          },
          "execution_count": 5
        }
      ]
    },
    {
      "cell_type": "markdown",
      "metadata": {
        "id": "40h9JSKrZ7Yj",
        "colab_type": "text"
      },
      "source": [
        "<font color=\"red\"><h1>Exercise 1</h1></font>\n",
        "\n",
        "Write a function using a `lambda` expression that computes the area of a circle with radius `r`.\n"
      ]
    },
    {
      "cell_type": "code",
      "metadata": {
        "id": "k86-l7RkZ7Yk",
        "colab_type": "code",
        "colab": {
          "base_uri": "https://localhost:8080/",
          "height": 34
        },
        "outputId": "d2957222-bc7f-4df3-a844-4feb31dd94c4"
      },
      "source": [
        "from math import pi\n",
        "area = lambda r: pi*r**2\n",
        "area(1)"
      ],
      "execution_count": 24,
      "outputs": [
        {
          "output_type": "execute_result",
          "data": {
            "text/plain": [
              "3.141592653589793"
            ]
          },
          "metadata": {
            "tags": []
          },
          "execution_count": 24
        }
      ]
    },
    {
      "cell_type": "markdown",
      "metadata": {
        "id": "apsinwRzZ7Yp",
        "colab_type": "text"
      },
      "source": [
        "## Lambdas with many arguments"
      ]
    },
    {
      "cell_type": "code",
      "metadata": {
        "nbpresent": {
          "id": "2f7d8217-77e6-4c57-802a-ac417af24d61"
        },
        "id": "DEeeD9lwZ7Yq",
        "colab_type": "code",
        "colab": {},
        "outputId": "6995da73-8cb6-405c-a7a8-37613cc1cce6"
      },
      "source": [
        "g = lambda x, y : x**y\n",
        "g(2,4)"
      ],
      "execution_count": null,
      "outputs": [
        {
          "output_type": "execute_result",
          "data": {
            "text/plain": [
              "16"
            ]
          },
          "metadata": {
            "tags": []
          },
          "execution_count": 9
        }
      ]
    },
    {
      "cell_type": "markdown",
      "metadata": {
        "id": "m5FK2dxpZ7Yx",
        "colab_type": "text"
      },
      "source": [
        "## Evaluating a 2 argument `lambda`\n",
        "\n",
        "<img src=\"https://github.com/Rebekah-Nagel-mscst/module1_lectures/blob/master/img/lambda_eval_2arg_1.png?raw=1\" width=600/>"
      ]
    },
    {
      "cell_type": "markdown",
      "metadata": {
        "id": "dWL0j5evZ7Yx",
        "colab_type": "text"
      },
      "source": [
        "## Evaluating a 2 argument `lambda`\n",
        "\n",
        "<img src=\"https://github.com/Rebekah-Nagel-mscst/module1_lectures/blob/master/img/lambda_eval_2arg_2.png?raw=1\" width=600/>"
      ]
    },
    {
      "cell_type": "markdown",
      "metadata": {
        "id": "A6mjshC9Z7Yy",
        "colab_type": "text"
      },
      "source": [
        "## Evaluating a 2 argument `lambda`\n",
        "\n",
        "<img src=\"https://github.com/Rebekah-Nagel-mscst/module1_lectures/blob/master/img/lambda_eval_2arg_3.png?raw=1\" width=600/>"
      ]
    },
    {
      "cell_type": "markdown",
      "metadata": {
        "id": "Si2C1HEaZ7Yz",
        "colab_type": "text"
      },
      "source": [
        ""
      ]
    },
    {
      "cell_type": "markdown",
      "metadata": {
        "id": "CHzheOdVZ7Yz",
        "colab_type": "text"
      },
      "source": [
        "<font color=\"red\"><h1>Exercise 2</h1></font>\n",
        "\n",
        "Use a similar process to evaluate `h(1,2,3)` when\n",
        "\n",
        "```\n",
        "h = lambda x, y, z: 2*x*y+ y**2/z\n",
        "```"
      ]
    },
    {
      "cell_type": "code",
      "metadata": {
        "id": "vtvIJts3Z7Y0",
        "colab_type": "code",
        "colab": {},
        "outputId": "199dca31-3fd2-402d-ad8e-19c34e63cc59"
      },
      "source": [
        "h = lambda x, y, z: 2*x*y+ y**2/z\n",
        "h(1, 2, 3)"
      ],
      "execution_count": null,
      "outputs": [
        {
          "output_type": "execute_result",
          "data": {
            "text/plain": [
              "5.333333333333333"
            ]
          },
          "metadata": {
            "tags": []
          },
          "execution_count": 26
        }
      ]
    },
    {
      "cell_type": "code",
      "metadata": {
        "id": "P-Z7Y2uBZ7Y5",
        "colab_type": "code",
        "colab": {
          "base_uri": "https://localhost:8080/",
          "height": 34
        },
        "outputId": "1c84fb85-45de-4544-ab03-b3641391da5f"
      },
      "source": [
        "(lambda x, y, z: 2*x*y+ y**2/z) (1,2,3)"
      ],
      "execution_count": 19,
      "outputs": [
        {
          "output_type": "execute_result",
          "data": {
            "text/plain": [
              "5.333333333333333"
            ]
          },
          "metadata": {
            "tags": []
          },
          "execution_count": 19
        }
      ]
    },
    {
      "cell_type": "code",
      "metadata": {
        "id": "Hfrw487-fe6Y",
        "colab_type": "code",
        "colab": {
          "base_uri": "https://localhost:8080/",
          "height": 34
        },
        "outputId": "a28c517b-c747-45c0-da55-101a03a45139"
      },
      "source": [
        "(lambda y, z: 2*1*y+ y**2/z) (2,3)"
      ],
      "execution_count": 20,
      "outputs": [
        {
          "output_type": "execute_result",
          "data": {
            "text/plain": [
              "5.333333333333333"
            ]
          },
          "metadata": {
            "tags": []
          },
          "execution_count": 20
        }
      ]
    },
    {
      "cell_type": "code",
      "metadata": {
        "id": "7mRbTq7efkjV",
        "colab_type": "code",
        "colab": {
          "base_uri": "https://localhost:8080/",
          "height": 34
        },
        "outputId": "c8ebc0ec-a60b-467c-f1ca-34f75ba04356"
      },
      "source": [
        "(lambda z: 2*1*2+ 2**2/z) (3)"
      ],
      "execution_count": 21,
      "outputs": [
        {
          "output_type": "execute_result",
          "data": {
            "text/plain": [
              "5.333333333333333"
            ]
          },
          "metadata": {
            "tags": []
          },
          "execution_count": 21
        }
      ]
    },
    {
      "cell_type": "code",
      "metadata": {
        "id": "_qTPb5I_fp9N",
        "colab_type": "code",
        "colab": {
          "base_uri": "https://localhost:8080/",
          "height": 34
        },
        "outputId": "166ce18b-4965-48f2-9510-2e1cc4bb075e"
      },
      "source": [
        "(lambda: 2*1*2+ 2**2/3) ()"
      ],
      "execution_count": 23,
      "outputs": [
        {
          "output_type": "execute_result",
          "data": {
            "text/plain": [
              "5.333333333333333"
            ]
          },
          "metadata": {
            "tags": []
          },
          "execution_count": 23
        }
      ]
    },
    {
      "cell_type": "markdown",
      "metadata": {
        "id": "H02_CeYpZ7Y9",
        "colab_type": "text"
      },
      "source": [
        "<font color=\"red\"><h1>Exercise 3</h1></font>\n",
        "\n",
        "The function `random` from the `random` module can be used to generate numbers between 0 and 1 at random. We want to return numbers between $a$ and $b$ at random, which can be accomplished using the formula $V = (b - a)*random() + a$.\n",
        "\n",
        "Write a lambda function that takes `a` and `b` as arguments are returns a number between `a` and `b` at random."
      ]
    },
    {
      "cell_type": "code",
      "metadata": {
        "id": "SXA-dyklZ7Y-",
        "colab_type": "code",
        "colab": {
          "base_uri": "https://localhost:8080/",
          "height": 1000
        },
        "outputId": "d67d42cc-daa7-415b-bf6b-7cae4c904559"
      },
      "source": [
        "from random import random\n",
        "uniform = lambda b, a: (b-a) * random() + a \n",
        "[uniform (3,5) for i in range(100)]"
      ],
      "execution_count": 26,
      "outputs": [
        {
          "output_type": "execute_result",
          "data": {
            "text/plain": [
              "[4.658725651517879,\n",
              " 3.422190449200994,\n",
              " 4.418046204784303,\n",
              " 4.681906007062418,\n",
              " 4.024171951627348,\n",
              " 4.877950029617038,\n",
              " 3.5611287621165655,\n",
              " 3.2906349350943342,\n",
              " 4.997722362935162,\n",
              " 4.831703016529037,\n",
              " 3.6572891327207504,\n",
              " 4.636344175802558,\n",
              " 3.5022433392947017,\n",
              " 4.947192547482926,\n",
              " 4.820758921523096,\n",
              " 4.64517201770699,\n",
              " 4.131681241803381,\n",
              " 3.3919582028030177,\n",
              " 4.304746257417281,\n",
              " 3.3724779373971616,\n",
              " 3.369687102844276,\n",
              " 3.232260002248477,\n",
              " 3.1104857843756664,\n",
              " 3.907169415982769,\n",
              " 3.142806554562126,\n",
              " 4.443310484857813,\n",
              " 3.8785559827799925,\n",
              " 3.8767115449751004,\n",
              " 3.2506749731636595,\n",
              " 4.689970977026585,\n",
              " 4.131903676834169,\n",
              " 4.6267792867663164,\n",
              " 4.4050590631878705,\n",
              " 4.743162641654049,\n",
              " 3.3949771381401113,\n",
              " 4.183815815778854,\n",
              " 4.672345293435274,\n",
              " 3.1629901793480486,\n",
              " 3.003726088679759,\n",
              " 4.596775692424066,\n",
              " 3.610499666080611,\n",
              " 3.434252472253066,\n",
              " 4.494453087197253,\n",
              " 4.916958781938633,\n",
              " 4.3322659903137035,\n",
              " 4.833514918116775,\n",
              " 3.3579376758948167,\n",
              " 4.707267492358983,\n",
              " 3.185332578308726,\n",
              " 3.0965903552254272,\n",
              " 4.401348182627304,\n",
              " 4.3759768131482115,\n",
              " 3.494369492080316,\n",
              " 3.8463339485288444,\n",
              " 4.562339302984082,\n",
              " 4.020466699047071,\n",
              " 4.779421412931425,\n",
              " 4.553903892888777,\n",
              " 4.768537671904737,\n",
              " 3.0525257634773544,\n",
              " 4.251232740272358,\n",
              " 3.087997247688536,\n",
              " 3.2378141782830134,\n",
              " 4.980475666291481,\n",
              " 3.4445996326923134,\n",
              " 4.124246986222479,\n",
              " 3.2671107096262886,\n",
              " 3.064646476917929,\n",
              " 3.951822998092598,\n",
              " 4.107844492347577,\n",
              " 3.7757707253768453,\n",
              " 4.64396316384641,\n",
              " 4.570324273137398,\n",
              " 3.3364425304765657,\n",
              " 3.0624483032283876,\n",
              " 4.981856736939214,\n",
              " 3.2655333039901375,\n",
              " 4.467900894698653,\n",
              " 4.168730969631234,\n",
              " 3.1091861908527045,\n",
              " 3.515342479158959,\n",
              " 4.1996884177613145,\n",
              " 4.795539126251894,\n",
              " 4.948911208048355,\n",
              " 3.2734830799794308,\n",
              " 4.0784219403320945,\n",
              " 3.483327458697571,\n",
              " 4.774552036059943,\n",
              " 4.205704354515717,\n",
              " 4.832840263191992,\n",
              " 4.878578857229586,\n",
              " 3.2754295567746894,\n",
              " 4.757707144461594,\n",
              " 4.8042054867415285,\n",
              " 4.427997937672875,\n",
              " 4.678287039573889,\n",
              " 4.155938011503018,\n",
              " 4.1212680465297575,\n",
              " 3.858306057775386,\n",
              " 4.7958571336722455]"
            ]
          },
          "metadata": {
            "tags": []
          },
          "execution_count": 26
        }
      ]
    }
  ]
}